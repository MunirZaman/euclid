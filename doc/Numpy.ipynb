{
 "cells": [
  {
   "cell_type": "markdown",
   "id": "3e6cff64",
   "metadata": {},
   "source": [
    "# Numpy"
   ]
  },
  {
   "cell_type": "markdown",
   "id": "55e72f39",
   "metadata": {},
   "source": [
    "## Solving a System of Linear Equations"
   ]
  },
  {
   "cell_type": "markdown",
   "id": "977ddea5",
   "metadata": {},
   "source": [
    "### `np.linalg.solve(A, B)`\n",
    "Using the `np.linalg.solve` function we can solve a linear system of equations. See [Documentation](https://numpy.org/doc/stable/reference/generated/numpy.linalg.solve.html#numpy.linalg.solve) for more info."
   ]
  },
  {
   "cell_type": "markdown",
   "id": "e123bd89",
   "metadata": {},
   "source": [
    "Let's say we want to solve the linear system of equations,\n",
    "$$\\begin{align*}\n",
    "1x+2y=0\\\\\n",
    "5x+7y=1\n",
    "\\end{align*}$$\n",
    "Using matrix notation we can rewrite the linear system as\n",
    "$$\n",
    "\\begin{bmatrix}\n",
    "1 & 2 \\\\\n",
    "5 & 7\n",
    "\\end{bmatrix}\\cdot \\begin{bmatrix}\n",
    "x \\\\\n",
    "y\n",
    "\\end{bmatrix} =\n",
    "\\begin{bmatrix}\n",
    "0 \\\\\n",
    "4\n",
    "\\end{bmatrix}$$"
   ]
  },
  {
   "cell_type": "markdown",
   "id": "02d80935",
   "metadata": {},
   "source": [
    "To solve the system we first create the matrices $\\mathbf{A}$ and $\\mathbf{B}$,\n",
    "$$\n",
    "\\mathbf{A}=\\begin{bmatrix} \n",
    "1 & 2\\\\ \n",
    "5 & 7 \n",
    "\\end{bmatrix}\\;\n",
    "\\mathbf{B}=\\begin{bmatrix} \n",
    "0 \\\\ 4 \n",
    "\\end{bmatrix}\n",
    "$$\n",
    "Then we use `np.linalg.solve(A,B)` to solve the linear system, $\\mathbf{A}\\mathbf{x}=\\mathbf{B}$"
   ]
  },
  {
   "cell_type": "code",
   "execution_count": 48,
   "id": "2ac0dc0a",
   "metadata": {},
   "outputs": [
    {
     "name": "stdout",
     "output_type": "stream",
     "text": [
      "A: \n",
      "[[1 2]\n",
      " [5 7]]\n",
      "\n",
      "B: \n",
      "[[0]\n",
      " [4]]\n",
      "\n",
      "x:[[ 2.66666667]\n",
      " [-1.33333333]]\n"
     ]
    }
   ],
   "source": [
    "import numpy as np\n",
    "A=np.array([[1,2],[5,7]])\n",
    "print(f\"A: \\n{A}\\n\")\n",
    "\n",
    "B=np.array([[0],[4]])\n",
    "print(f\"B: \\n{B}\")\n",
    "\n",
    "sol=np.linalg.solve(A,B)\n",
    "print(f\"\\nx:{sol}\")"
   ]
  },
  {
   "cell_type": "markdown",
   "id": "fb73230d",
   "metadata": {},
   "source": [
    "$$\n",
    "\\begin{align*}\n",
    "1x+2y=0\\\\\n",
    "5x+7y=1\n",
    "\\end{align*}\n",
    "\\implies\n",
    "\\begin{bmatrix}\n",
    "1 & 2 \\\\\n",
    "5 & 7\n",
    "\\end{bmatrix}\\cdot \\begin{bmatrix}\n",
    "x \\\\ y\n",
    "\\end{bmatrix} =\n",
    "\\begin{bmatrix}\n",
    "0\\\\4\n",
    "\\end{bmatrix} \\implies \\begin{bmatrix}\n",
    "x \\\\ y\n",
    "\\end{bmatrix}=\\begin{bmatrix} 2.67 \\\\ -1.33 \\end{bmatrix} \\implies x=2.67,\\;y=-1.33\n",
    "$$"
   ]
  },
  {
   "cell_type": "markdown",
   "id": "3d76aceb",
   "metadata": {},
   "source": [
    "Now let's solve the following linear system,\n",
    "$$\n",
    "\\begin{align*}\n",
    "4x + y + 2z&=0\\\\\n",
    "x + 5y + 7z&=4 \\\\\n",
    "2x + 9y    &=1\n",
    "\\end{align*}\n",
    "\\implies \n",
    "\\begin{bmatrix}\n",
    "4 & 1 & 2 \\\\\n",
    "1 & 5 & 7 \\\\\n",
    "2 & 9 & 0\n",
    "\\end{bmatrix}\\cdot \\begin{bmatrix}\n",
    "x \\\\\n",
    "y \\\\\n",
    "z\n",
    "\\end{bmatrix} =\n",
    "\\begin{bmatrix}\n",
    "0 \\\\\n",
    "4 \\\\\n",
    "1\n",
    "\\end{bmatrix}$$"
   ]
  },
  {
   "cell_type": "code",
   "execution_count": 49,
   "id": "febc4bbf",
   "metadata": {},
   "outputs": [
    {
     "name": "stdout",
     "output_type": "stream",
     "text": [
      "[[-0.2875]\n",
      " [ 0.175 ]\n",
      " [ 0.4875]]\n"
     ]
    }
   ],
   "source": [
    "a=np.array([[4, 1, 2],[1, 5, 7],[2, 9, 0]])\n",
    "b=np.array([[0],[4],[1]])\n",
    "X=np.linalg.solve(a,b)\n",
    "print(X)"
   ]
  },
  {
   "cell_type": "markdown",
   "id": "d7322155",
   "metadata": {},
   "source": [
    "### Cramer's Rule\n"
   ]
  },
  {
   "cell_type": "markdown",
   "id": "eb2da504",
   "metadata": {},
   "source": [
    "Consider a system of $n$ linear equations for $n$ unknowns, represented in matrix multiplication form as follows:\n",
    "$$\\mathbf{A}\\mathbf{x}=\\mathbf{B}$$\n",
    "where, \n",
    "$$\\mathbf{x}=\\begin{bmatrix} x_1\\\\x_2\\\\ \\vdots \\\\ x_n \\end{bmatrix}$$\n",
    "is the column vector of the variables."
   ]
  },
  {
   "cell_type": "markdown",
   "id": "b0a5bbe4",
   "metadata": {},
   "source": [
    "Cramer's Rule states that in this case the system has a unique solution, whose individual values for the unknowns are given by,\n",
    "$$x_i=\\frac{det(\\mathbf{A_i})}{det(\\mathbf{A})} \\quad i=1,2,\\cdots,n$$"
   ]
  },
  {
   "cell_type": "markdown",
   "id": "458eba9c",
   "metadata": {},
   "source": [
    "where $\\mathbf{A_i}$ is the matrix formed by replacing the $i$-th column of $\\mathbf{A}$ by the column vector $\\mathbf{B}$. As you can see $\\mathbf{x}$ exists if and only if $det(\\mathbf{A}) \\neq 0$."
   ]
  },
  {
   "cell_type": "markdown",
   "id": "05ef2b7a",
   "metadata": {},
   "source": [
    "Now we solve the following linear system of equations using Cramer's Rule ,\n",
    "$$\\begin{align*}\n",
    "1x+2y=0\\\\\n",
    "5x+7y=1\n",
    "\\end{align*}$$"
   ]
  },
  {
   "cell_type": "code",
   "execution_count": 51,
   "id": "c9f2eae1",
   "metadata": {},
   "outputs": [
    {
     "name": "stdout",
     "output_type": "stream",
     "text": [
      "A: \n",
      "[[1 2]\n",
      " [5 7]]\n",
      "\n",
      "B: \n",
      "[[0]\n",
      " [4]]\n",
      "\n",
      "x=2.666666666666667\n",
      "y=-1.3333333333333337\n"
     ]
    }
   ],
   "source": [
    "import numpy as np\n",
    "A=np.array([[1,2],[5,7]])\n",
    "print(f\"A: \\n{A}\\n\")\n",
    "\n",
    "B=np.array([[0],[4]])\n",
    "print(f\"B: \\n{B}\")\n",
    "\n",
    "A1=np.array([[0,2],[4,7]])\n",
    "A2=np.array([[1,0],[5,4]])\n",
    "\n",
    "x=np.linalg.det(A1)/np.linalg.det(A)\n",
    "y=np.linalg.det(A2)/np.linalg.det(A)\n",
    "print(f\"\\nx={x}\\ny={y}\")"
   ]
  },
  {
   "cell_type": "markdown",
   "id": "8877a2e1",
   "metadata": {},
   "source": [
    "## Inverse Matrix"
   ]
  },
  {
   "cell_type": "markdown",
   "id": "9ab690b8",
   "metadata": {},
   "source": [
    "If $\\mathbf{A'}$ is a matrix such that,\n",
    "$\\mathbf{A'}\\mathbf{A}=\\mathbf{I}$ \n",
    ", where $\\mathbf{I}$ is the identity matrix ,then $\\mathbf{A'}$ is called the inverse matrix of $\\mathbf{A}$"
   ]
  },
  {
   "cell_type": "code",
   "execution_count": 56,
   "id": "4aebe559",
   "metadata": {},
   "outputs": [
    {
     "data": {
      "text/plain": [
       "array([[-1.5 ,  0.5 ],\n",
       "       [ 1.25, -0.25]])"
      ]
     },
     "execution_count": 56,
     "metadata": {},
     "output_type": "execute_result"
    }
   ],
   "source": [
    "A=np.array([[1,2],[5,6]])\n",
    "A_=np.linalg.inv(A) #inverse matrix of A\n",
    "A_"
   ]
  },
  {
   "cell_type": "code",
   "execution_count": 54,
   "id": "492d1221",
   "metadata": {},
   "outputs": [
    {
     "data": {
      "text/plain": [
       "array([[1., 0.],\n",
       "       [0., 1.]])"
      ]
     },
     "execution_count": 54,
     "metadata": {},
     "output_type": "execute_result"
    }
   ],
   "source": [
    "np.matmul(A_,A)"
   ]
  },
  {
   "cell_type": "markdown",
   "id": "4b4fb1e5",
   "metadata": {},
   "source": [
    "Notice the inverse matrix of $\\mathbf{I}$ is $\\mathbf{I}$ itself, that is $\\mathbf{I}=\\mathbf{I'}$ as $\\mathbf{I}\\cdot \\mathbf{I}=\\mathbf{I}$"
   ]
  },
  {
   "cell_type": "code",
   "execution_count": 58,
   "id": "3e4b9a5a",
   "metadata": {},
   "outputs": [
    {
     "data": {
      "text/plain": [
       "array([[1., 0.],\n",
       "       [0., 1.]])"
      ]
     },
     "execution_count": 58,
     "metadata": {},
     "output_type": "execute_result"
    }
   ],
   "source": [
    "I=np.eye(2)\n",
    "I"
   ]
  },
  {
   "cell_type": "code",
   "execution_count": 59,
   "id": "caf5e8e6",
   "metadata": {},
   "outputs": [
    {
     "data": {
      "text/plain": [
       "array([[1., 0.],\n",
       "       [0., 1.]])"
      ]
     },
     "execution_count": 59,
     "metadata": {},
     "output_type": "execute_result"
    }
   ],
   "source": [
    "np.linalg.inv(I)"
   ]
  },
  {
   "cell_type": "code",
   "execution_count": 60,
   "id": "9bc8c891",
   "metadata": {},
   "outputs": [
    {
     "data": {
      "text/plain": [
       "array([[1., 0.],\n",
       "       [0., 1.]])"
      ]
     },
     "execution_count": 60,
     "metadata": {},
     "output_type": "execute_result"
    }
   ],
   "source": [
    "np.matmul(I,I)"
   ]
  }
 ],
 "metadata": {
  "kernelspec": {
   "display_name": "Python 3 (ipykernel)",
   "language": "python",
   "name": "python3"
  },
  "language_info": {
   "codemirror_mode": {
    "name": "ipython",
    "version": 3
   },
   "file_extension": ".py",
   "mimetype": "text/x-python",
   "name": "python",
   "nbconvert_exporter": "python",
   "pygments_lexer": "ipython3",
   "version": "3.9.5"
  }
 },
 "nbformat": 4,
 "nbformat_minor": 5
}
